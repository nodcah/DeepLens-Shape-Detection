{
 "cells": [
  {
   "cell_type": "code",
   "execution_count": 5,
   "id": "psychological-thought",
   "metadata": {},
   "outputs": [],
   "source": [
    "import matplotlib.pyplot as plt\n",
    "from matplotlib.image import imread\n",
    "import math\n",
    "import numpy as np\n",
    "\n",
    "import os\n",
    "\n",
    "import tensorflow as tf\n",
    "from tensorflow import keras\n",
    "from tensorflow.keras import layers"
   ]
  },
  {
   "cell_type": "markdown",
   "id": "human-shopping",
   "metadata": {},
   "source": [
    "## Reading training data"
   ]
  },
  {
   "cell_type": "code",
   "execution_count": null,
   "id": "found-given",
   "metadata": {},
   "outputs": [],
   "source": [
    "shapes_root = 'shapes/shapes'\n",
    "shapes_names = ['circle/','square/','star/','triangle/']\n",
    "shapes_class_labels = np.array([i for i in range(len(shapes_names))])"
   ]
  },
  {
   "cell_type": "code",
   "execution_count": 12,
   "id": "rocky-modification",
   "metadata": {},
   "outputs": [
    {
     "name": "stdout",
     "output_type": "stream",
     "text": [
      "/Users/nodcah/Desktop/UMich/EECS605/DeepLens-Shape-Detection\n"
     ]
    }
   ],
   "source": [
    "print(os.getcwd())\n",
    "# /Users/nodcah/Desktop/UMich/EECS605/DeepLens-Shape-Detection/shapes/shapes/circle/\n",
    "im = imread('./shapes/shapes/circle/1.png')"
   ]
  },
  {
   "cell_type": "code",
   "execution_count": 13,
   "id": "freelance-banking",
   "metadata": {},
   "outputs": [
    {
     "data": {
      "text/plain": [
       "(200, 200)"
      ]
     },
     "execution_count": 13,
     "metadata": {},
     "output_type": "execute_result"
    }
   ],
   "source": [
    "im.shape"
   ]
  },
  {
   "cell_type": "code",
   "execution_count": null,
   "id": "prescription-translation",
   "metadata": {},
   "outputs": [],
   "source": [
    "# Read in data from shapes_root and form into numpy array\n",
    "N = sum([len(files) for _, _, files in os.walk(shapes_root)])\n",
    "X_shapes = []\n",
    "Y_shapes = []\n",
    "\n",
    "\n",
    "\n",
    "for label,shape_name in enumerate(shape_names):\n",
    "    shape_path = os.path.join(shapes_root,shape_name)\n",
    "\n",
    "    num = 0\n",
    "    image_path = os.path.join(shape_path,num+'.png')\n",
    "    while os.path.isfile(image_path):\n",
    "        img = imread(image_path)\n",
    "        X_shapes = \n",
    "        num += 1\n",
    "        image_path = os.path.join(shape_path,num+'.png')\n",
    "    N += num-1\n",
    "    \n",
    "# Split into testing/training\n"
   ]
  },
  {
   "cell_type": "markdown",
   "id": "advance-treasury",
   "metadata": {},
   "source": [
    "## Model definition"
   ]
  },
  {
   "cell_type": "code",
   "execution_count": null,
   "id": "pregnant-illness",
   "metadata": {},
   "outputs": [],
   "source": [
    "model = None"
   ]
  },
  {
   "cell_type": "markdown",
   "id": "tender-crowd",
   "metadata": {},
   "source": [
    "## Training"
   ]
  },
  {
   "cell_type": "code",
   "execution_count": null,
   "id": "brief-settle",
   "metadata": {},
   "outputs": [],
   "source": [
    "# Call model.fit\n",
    "\n",
    "# Save as ONNX\n"
   ]
  },
  {
   "cell_type": "markdown",
   "id": "assisted-converter",
   "metadata": {},
   "source": [
    "## Testing"
   ]
  },
  {
   "cell_type": "code",
   "execution_count": null,
   "id": "announced-honey",
   "metadata": {},
   "outputs": [],
   "source": [
    "# Display output of network on a query image \n",
    "# (will eventually be copied to another file)\n"
   ]
  }
 ],
 "metadata": {
  "kernelspec": {
   "display_name": "Python 3",
   "language": "python",
   "name": "python3"
  },
  "language_info": {
   "codemirror_mode": {
    "name": "ipython",
    "version": 3
   },
   "file_extension": ".py",
   "mimetype": "text/x-python",
   "name": "python",
   "nbconvert_exporter": "python",
   "pygments_lexer": "ipython3",
   "version": "3.9.2"
  }
 },
 "nbformat": 4,
 "nbformat_minor": 5
}
